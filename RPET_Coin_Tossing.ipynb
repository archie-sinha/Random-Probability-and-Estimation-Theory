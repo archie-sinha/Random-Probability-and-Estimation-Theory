{
  "nbformat": 4,
  "nbformat_minor": 0,
  "metadata": {
    "colab": {
      "provenance": []
    },
    "kernelspec": {
      "name": "python3",
      "display_name": "Python 3"
    },
    "language_info": {
      "name": "python"
    }
  },
  "cells": [
    {
      "cell_type": "markdown",
      "source": [
        "# ARCHISHA SINHA"
      ],
      "metadata": {
        "id": "BN1bpNVIAKG2"
      }
    },
    {
      "cell_type": "markdown",
      "source": [
        "# Simple Coin Tossing Simulation:"
      ],
      "metadata": {
        "id": "EqK7AVOm935U"
      }
    },
    {
      "cell_type": "code",
      "execution_count": 2,
      "metadata": {
        "colab": {
          "base_uri": "https://localhost:8080/"
        },
        "id": "wZidQki0BccC",
        "outputId": "4d02c8a1-afc0-495e-d686-eefecd297a2f"
      },
      "outputs": [
        {
          "output_type": "stream",
          "name": "stdout",
          "text": [
            "ENTER NO OF TOSSES8\n",
            "For toss 1 --> Heads\n",
            "For toss 2 --> Tails\n",
            "For toss 3 --> Heads\n",
            "For toss 4 --> Tails\n",
            "For toss 5 --> Tails\n",
            "For toss 6 --> Heads\n",
            "For toss 7 --> Tails\n",
            "For toss 8 --> Tails\n",
            "The no. of heads: 3\n",
            "The no. of tails: 5\n"
          ]
        }
      ],
      "source": [
        "import random\n",
        "\n",
        "# Get the number of tosses from the user\n",
        "n = int(input(\"ENTER NO OF TOSSES\"))\n",
        "\n",
        "# Initialize counters for heads and tails\n",
        "count_heads = 0\n",
        "count_tails = 0\n",
        "\n",
        "# Loop through the specified number of tosses\n",
        "for i in range(n):\n",
        "    # Simulate a coin toss by randomly choosing \"heads\" or \"tails\"\n",
        "    result = random.choice([\"heads\", \"tails\"])\n",
        "\n",
        "    # Check the result and update the counters\n",
        "    if result == \"heads\":\n",
        "        count_heads += 1\n",
        "        print(f\"For toss {i+1} --> Heads\")\n",
        "    else:\n",
        "        count_tails += 1\n",
        "        print(f\"For toss {i+1} --> Tails\")\n",
        "\n",
        "# Print the total number of heads and tails\n",
        "print(f\"The no. of heads: {count_heads}\")\n",
        "print(f\"The no. of tails: {count_tails}\")"
      ]
    },
    {
      "cell_type": "markdown",
      "source": [
        "# Probability Mass Function (PMF) for tossing two coins and displaying a distribution table"
      ],
      "metadata": {
        "id": "KHdETlkI_uxk"
      }
    },
    {
      "cell_type": "code",
      "source": [
        "import scipy.special\n",
        "\n",
        "# Get the number of coins from the user\n",
        "x = int(input(\"Number of coins you want the PMF for: \"))\n",
        "\n",
        "# Initialize lists to store PMF values and cumulative probabilities\n",
        "pmf_values = []\n",
        "cumulative_probabilities = []\n",
        "cumulative_probability = 0\n",
        "\n",
        "# Calculate the PMF and cumulative probabilities for each possible outcome\n",
        "for i in range(x + 1):\n",
        "    # Calculate the PMF value using the binomial coefficient formula\n",
        "    pmf = scipy.special.comb(x, i) / 2**x\n",
        "    pmf_values.append(pmf)\n",
        "\n",
        "    # Update the cumulative probability\n",
        "    cumulative_probability += pmf\n",
        "    cumulative_probabilities.append(cumulative_probability)\n",
        "\n",
        "# Print the distribution table\n",
        "print(\"Distribution Table\")\n",
        "print(\"x | p(x) | c(x)\")\n",
        "for i in range(len(pmf_values)):\n",
        "    print(f\"{i} | {pmf_values[i]} | {cumulative_probabilities[i]}\")\n"
      ],
      "metadata": {
        "colab": {
          "base_uri": "https://localhost:8080/"
        },
        "id": "1khXtjM6HPej",
        "outputId": "4c174151-3255-49c6-8368-a705753ac246"
      },
      "execution_count": 3,
      "outputs": [
        {
          "output_type": "stream",
          "name": "stdout",
          "text": [
            "Number of coins you want the PMF for: 3\n",
            "Distribution Table\n",
            "x | p(x) | c(x)\n",
            "0 | 0.125 | 0.125\n",
            "1 | 0.375 | 0.5\n",
            "2 | 0.375 | 0.875\n",
            "3 | 0.125 | 1.0\n"
          ]
        }
      ]
    }
  ]
}