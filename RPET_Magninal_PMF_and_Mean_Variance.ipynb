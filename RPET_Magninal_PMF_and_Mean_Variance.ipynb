{
  "nbformat": 4,
  "nbformat_minor": 0,
  "metadata": {
    "colab": {
      "provenance": []
    },
    "kernelspec": {
      "name": "python3",
      "display_name": "Python 3"
    },
    "language_info": {
      "name": "python"
    }
  },
  "cells": [
    {
      "cell_type": "markdown",
      "source": [
        "# ARCHISHA SINHA"
      ],
      "metadata": {
        "id": "u-z2AORKJ0JL"
      }
    },
    {
      "cell_type": "code",
      "execution_count": 1,
      "metadata": {
        "colab": {
          "base_uri": "https://localhost:8080/"
        },
        "id": "Ph1a7jT_lllm",
        "outputId": "5f3aa21b-d335-4e37-e2a0-d0b002f3e791"
      },
      "outputs": [
        {
          "output_type": "stream",
          "name": "stdout",
          "text": [
            "[[0. 0. 0. 0.]\n",
            " [0. 0. 0. 0.]\n",
            " [0. 0. 0. 0.]]\n",
            "2\n",
            "\n",
            "[[0.         0.05454545 0.10909091 0.16363636]\n",
            " [0.03636364 0.09090909 0.14545455 0.2       ]\n",
            " [0.07272727 0.12727273 0.18181818 0.23636364]]\n"
          ]
        }
      ],
      "source": [
        "import numpy as np\n",
        "\n",
        "# Create a 3x4 array filled with zeros\n",
        "z = np.zeros([3, 4])\n",
        "\n",
        "# Print the array and its number of dimensions\n",
        "print(z)\n",
        "print(z.ndim)\n",
        "print()\n",
        "\n",
        "# Define arrays X and Y\n",
        "X = [0, 1, 2]\n",
        "Y = [0, 1, 2, 3]\n",
        "\n",
        "# Get the lengths of arrays X and Y\n",
        "a = len(X)\n",
        "b = len(Y)\n",
        "\n",
        "# Populate the array z based on the formula ((2*x) + (3*y))/55\n",
        "for x in range(a):\n",
        "    for y in range(b):\n",
        "        z[x, y] = ((2 * x) + (3 * y)) / 55\n",
        "\n",
        "# Print the populated array\n",
        "print(z)\n"
      ]
    },
    {
      "cell_type": "markdown",
      "source": [
        "# Marginal Probability Mass Functions (PMF) for random variables X and Y from a given joint probability distribution"
      ],
      "metadata": {
        "id": "vYShRWXGIW88"
      }
    },
    {
      "cell_type": "code",
      "source": [
        "from scipy.stats.contingency import margins\n",
        "\n",
        "# Assuming you have the joint probability distribution in `z`\n",
        "joint_probability_X_Y = np.array(z)\n",
        "\n",
        "# Calculate the marginal PMFs for X and Y using the `margins` function\n",
        "x_marginal, y_marginal = margins(joint_probability_X_Y)\n",
        "\n",
        "print(\"Marginal PMF of X:\")\n",
        "print(X)  # Values of random variable X\n",
        "print()\n",
        "pmf_x = x_marginal\n",
        "print(pmf_x)  # Marginal PMF of X\n",
        "\n",
        "print()\n",
        "print(\"Marginal PMF of Y:\")\n",
        "print(Y)  # Values of random variable Y\n",
        "print()\n",
        "pmf_y = y_marginal\n",
        "print(pmf_y)  # Marginal PMF of Y\n"
      ],
      "metadata": {
        "colab": {
          "base_uri": "https://localhost:8080/"
        },
        "id": "kfzKtOWtpeqI",
        "outputId": "7a4fdca3-e274-4d53-90d4-7dfc7221a3ca"
      },
      "execution_count": 2,
      "outputs": [
        {
          "output_type": "stream",
          "name": "stdout",
          "text": [
            "Marginal PMF of X:\n",
            "[0, 1, 2]\n",
            "\n",
            "[[0.32727273]\n",
            " [0.47272727]\n",
            " [0.61818182]]\n",
            "\n",
            "Marginal PMF of Y:\n",
            "[0, 1, 2, 3]\n",
            "\n",
            "[[0.10909091 0.27272727 0.43636364 0.6       ]]\n"
          ]
        }
      ]
    },
    {
      "cell_type": "markdown",
      "source": [
        "# Claculating Mean and Variance of the random variable X based on its Probability Mass Function (PMF)"
      ],
      "metadata": {
        "id": "3rXTyuQyIyMV"
      }
    },
    {
      "cell_type": "code",
      "source": [
        "import numpy as np\n",
        "\n",
        "# Assuming you have the values of random variable X and its PMF\n",
        "a = np.array(X)  # Values of X\n",
        "print(\"Values of X:\")\n",
        "print(a)\n",
        "print()\n",
        "\n",
        "# Print the dimension of X\n",
        "print(\"Dimension of X:\")\n",
        "print(a.ndim)\n",
        "\n",
        "# Print the dimension of the PMF of X\n",
        "print(\"Dimension of PMF of X:\")\n",
        "print(pmf_x.ndim)\n",
        "\n",
        "# Print the shape of list X\n",
        "print(\"Shape of X:\")\n",
        "print(a.shape)\n",
        "\n",
        "b = pmf_x  # PMF of X\n",
        "print(\"PMF of X:\")\n",
        "print(b)\n",
        "\n",
        "# Print the shape of PMF of X\n",
        "print(\"Shape of PMF of X:\")\n",
        "print(b.shape)\n",
        "\n",
        "# Reshape a and b to (3, 1) shape\n",
        "a.shape = (a.size, 1)\n",
        "b.shape = (b.size, 1)\n",
        "\n",
        "print(\"Reshaped Shape of X:\")\n",
        "print(a.shape)  # (3, 1)\n",
        "\n",
        "print(\"Reshaped Shape of PMF of X:\")\n",
        "print(b.shape)  # (3, 1)\n",
        "\n",
        "# Calculate the mean of X: mu_x = Sum(x * P(x))\n",
        "c = a * b\n",
        "print(\"X * PMF of X:\")\n",
        "print(c)\n",
        "print()\n",
        "\n",
        "mu_x = np.sum(c)\n",
        "print(\"Mean of X is {}\".format(mu_x))\n",
        "print()\n",
        "\n",
        "# Calculate the variance of X: Var(X) = E[X^2] - (E[X])^2\n",
        "var_x = np.sum(a**2 * b) - (mu_x**2)\n",
        "print(\"Variance of X is {}\".format(var_x))"
      ],
      "metadata": {
        "colab": {
          "base_uri": "https://localhost:8080/"
        },
        "id": "nq3MeZBPvz1O",
        "outputId": "5bc6d55e-3863-404a-cf83-88bb4762a4d4"
      },
      "execution_count": 3,
      "outputs": [
        {
          "output_type": "stream",
          "name": "stdout",
          "text": [
            "Values of X:\n",
            "[0 1 2]\n",
            "\n",
            "Dimension of X:\n",
            "1\n",
            "Dimension of PMF of X:\n",
            "2\n",
            "Shape of X:\n",
            "(3,)\n",
            "PMF of X:\n",
            "[[0.32727273]\n",
            " [0.47272727]\n",
            " [0.61818182]]\n",
            "Shape of PMF of X:\n",
            "(3, 1)\n",
            "Reshaped Shape of X:\n",
            "(3, 1)\n",
            "Reshaped Shape of PMF of X:\n",
            "(3, 1)\n",
            "X * PMF of X:\n",
            "[[0.        ]\n",
            " [0.47272727]\n",
            " [1.23636364]]\n",
            "\n",
            "Mean of X is 1.709090909090909\n",
            "\n",
            "Variance of X is 0.02446280991735561\n"
          ]
        }
      ]
    }
  ]
}