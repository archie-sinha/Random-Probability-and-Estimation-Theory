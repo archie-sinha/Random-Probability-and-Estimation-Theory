{
  "nbformat": 4,
  "nbformat_minor": 0,
  "metadata": {
    "colab": {
      "provenance": []
    },
    "kernelspec": {
      "name": "python3",
      "display_name": "Python 3"
    },
    "language_info": {
      "name": "python"
    }
  },
  "cells": [
    {
      "cell_type": "markdown",
      "source": [
        "# ARCHISHA SINHA"
      ],
      "metadata": {
        "id": "4BwEjpOyfEK0"
      }
    },
    {
      "cell_type": "markdown",
      "source": [
        "# F-test to compare the variances of two datasets - to determine if they have the same variance"
      ],
      "metadata": {
        "id": "CIy9Da2Acz2q"
      }
    },
    {
      "cell_type": "code",
      "execution_count": 2,
      "metadata": {
        "colab": {
          "base_uri": "https://localhost:8080/"
        },
        "id": "17GCUP2-jQfT",
        "outputId": "49ad37db-1301-4b25-8653-da159ec2bf86"
      },
      "outputs": [
        {
          "output_type": "stream",
          "name": "stdout",
          "text": [
            "h0: Two samples have the same variance   h1: Two samples don't have the same variance\n",
            "h0 is accepted\n",
            "F Statistic: 1.579139243180919\n",
            "P-Value: 0.2057617915611616\n"
          ]
        }
      ],
      "source": [
        "import numpy as np\n",
        "import scipy.stats\n",
        "\n",
        "data1 = np.random.normal(0, 1.73205080757, 13)\n",
        "data2 = np.random.normal(0, (2.5**0.5), 15)\n",
        "\n",
        "def f_test(x, y):\n",
        "    f = np.var(x, ddof=1) / np.var(y, ddof=1)  # Calculate F test statistic\n",
        "    dfn = x.size - 1  # Define degrees of freedom numerator\n",
        "    dfd = y.size - 1  # Define degrees of freedom denominator\n",
        "    p = 1 - scipy.stats.f.cdf(f, dfn, dfd)  # Find p-value of F test statistic\n",
        "\n",
        "    print(\"h0: Two samples have the same variance   h1: Two samples don't have the same variance\")\n",
        "    if p > 0.05:\n",
        "        print(\"h0 is accepted\")\n",
        "    else:\n",
        "        print(\"h1 is accepted\")\n",
        "\n",
        "    return f, p\n",
        "\n",
        "# Perform F-test\n",
        "f_statistic, p_value = f_test(data1, data2)\n",
        "print(\"F Statistic:\", f_statistic)\n",
        "print(\"P-Value:\", p_value)"
      ]
    },
    {
      "cell_type": "markdown",
      "source": [
        "# F-test to compare the variances of two samples x and y"
      ],
      "metadata": {
        "id": "AbFn7trtdXfP"
      }
    },
    {
      "cell_type": "code",
      "source": [
        "import numpy as np\n",
        "import scipy.stats\n",
        "\n",
        "x = [21, 24, 25, 26, 27]\n",
        "y = [22, 27, 28, 30, 31, 36]\n",
        "\n",
        "# Define F-test function\n",
        "def f_test(x, y):\n",
        "    x = np.array(x)\n",
        "    y = np.array(y)\n",
        "    f = np.var(x, ddof=1) / np.var(y, ddof=1)  # Calculate F test statistic\n",
        "    dfn = x.size - 1  # Define degrees of freedom numerator\n",
        "    dfd = y.size - 1  # Define degrees of freedom denominator\n",
        "    p = 1 - scipy.stats.f.cdf(f, dfn, dfd)  # Find p-value of F test statistic\n",
        "\n",
        "    print(\"Null Hypothesis (H0): Both samples have the same variance\")\n",
        "    print(\"Alternative Hypothesis (H1): Both samples don't have the same variance\")\n",
        "\n",
        "    if p > 0.05:\n",
        "        print(\"Result: Fail to reject H0\")\n",
        "        print(\"Conclusion: Both samples likely come from populations with similar variances.\")\n",
        "    else:\n",
        "        print(\"Result: Reject H0\")\n",
        "        print(\"Conclusion: Both samples come from populations with different variances.\")\n",
        "\n",
        "    return f, p\n",
        "\n",
        "# Perform F-test\n",
        "f_statistic, p_value = f_test(x, y)\n",
        "print(\"F Statistic:\", f_statistic)\n",
        "print(\"P-Value:\", p_value)\n"
      ],
      "metadata": {
        "colab": {
          "base_uri": "https://localhost:8080/"
        },
        "id": "OQMgTXWHj-UR",
        "outputId": "db300858-e66e-45a9-8102-bb836a1ae4f5"
      },
      "execution_count": 3,
      "outputs": [
        {
          "output_type": "stream",
          "name": "stdout",
          "text": [
            "Null Hypothesis (H0): Both samples have the same variance\n",
            "Alternative Hypothesis (H1): Both samples don't have the same variance\n",
            "Result: Fail to reject H0\n",
            "Conclusion: Both samples likely come from populations with similar variances.\n",
            "F Statistic: 0.24537037037037035\n",
            "P-Value: 0.9009256744315088\n"
          ]
        }
      ]
    },
    {
      "cell_type": "markdown",
      "source": [
        "#  Two-sample t-test with equal variances to compare two groups of data\n",
        "# Based on the p-value, determine whether the two groups differ significantly with regard to their effect"
      ],
      "metadata": {
        "id": "pYITwHz4eW8-"
      }
    },
    {
      "cell_type": "code",
      "source": [
        "import scipy.stats as stats\n",
        "import numpy as np\n",
        "#Creating data groups\n",
        "data_group1=np.array([3.6,5.5,5.9,4.1,1.4])\n",
        "data_group2=np.array([4.5,3.6,5.5,6.8,2.7,3.6,5.0])\n",
        "#Perform the two sample T-test with equal variances\n",
        "fval,pval=stats.ttest_ind(a=data_group1, b=data_group2, equal_var=True)\n",
        "if(pval>0.05):\n",
        "  print(\"h0 is accepted, i.e. the drugs do not differ significantly with regard to their effect\")\n",
        "else:\n",
        "  print(\"h1 is accepted, drugs differ significantly with regard to their effect\")"
      ],
      "metadata": {
        "colab": {
          "base_uri": "https://localhost:8080/"
        },
        "id": "kiYHwImbkGQ_",
        "outputId": "4cf5dc69-50ab-4db6-8fff-ea0ba297a784"
      },
      "execution_count": 4,
      "outputs": [
        {
          "output_type": "stream",
          "name": "stdout",
          "text": [
            "h0 is accepted, i.e. the drugs do not differ significantly with regard to their effect\n"
          ]
        }
      ]
    },
    {
      "cell_type": "markdown",
      "source": [
        "# One-sample t-test to compare a sample data set to a known population mean"
      ],
      "metadata": {
        "id": "LlUwN6ZxevOn"
      }
    },
    {
      "cell_type": "code",
      "source": [
        "import scipy.stats as stats"
      ],
      "metadata": {
        "id": "MoxfYLOqkJOn"
      },
      "execution_count": 5,
      "outputs": []
    },
    {
      "cell_type": "code",
      "source": [
        "data= [31.1,30.7,24.3,28.1,27.9,32.2,25.4,29.1]\n",
        "#Perform one sample T-test\n",
        "fval,pval=stats.ttest_1samp(a=data,popmean=30,alternative='less')\n",
        "print(\"h0= Two samples have same mean, h1=Two samples don't have same mean\")\n",
        "if(pval>0.05):\n",
        "  print('''h0 is accepted, i.e. the average rainfall=normal rainfall\n",
        "  therefore we cannot conclude the average rainfall during the past 8 years is less than normal rainfall''')\n",
        "else:\n",
        "  print(\"h1 is accepted, average rainfall is not same as normal rainfall\")"
      ],
      "metadata": {
        "colab": {
          "base_uri": "https://localhost:8080/"
        },
        "id": "q8VXs-EtkNOP",
        "outputId": "46a182e6-6ad4-498a-b4f6-85572eb319be"
      },
      "execution_count": 7,
      "outputs": [
        {
          "output_type": "stream",
          "name": "stdout",
          "text": [
            "h0= Two samples have same mean, h1=Two samples don't have same mean\n",
            "h0 is accepted, i.e. the average rainfall=normal rainfall\n",
            "  therefore we cannot conclude the average rainfall during the past 8 years is less than normal rainfall\n"
          ]
        }
      ]
    }
  ]
}